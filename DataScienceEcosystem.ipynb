{
  "cells": [
    {
      "cell_type": "markdown",
      "id": "759dc43a-9b6d-442c-91ee-b0fb22c9835c",
      "metadata": {
        "id": "759dc43a-9b6d-442c-91ee-b0fb22c9835c"
      },
      "source": [
        "<h1>Data Science Tools and Ecosystem</h1>"
      ]
    },
    {
      "cell_type": "markdown",
      "id": "a82af0de-f29a-47e6-b9dd-4ec1aef8c1a9",
      "metadata": {
        "id": "a82af0de-f29a-47e6-b9dd-4ec1aef8c1a9"
      },
      "source": [
        "<h3>In this notebook, Data Science Tools and Ecosystem are summarized.</h3>"
      ]
    },
    {
      "cell_type": "markdown",
      "id": "262b2e22-5583-41af-991b-3a50bf1ca33e",
      "metadata": {
        "id": "262b2e22-5583-41af-991b-3a50bf1ca33e"
      },
      "source": [
        "<h3><b>Objectives: </b></h3>\n",
        "<ul>\n",
        "    <li>List popular languages for Data Science </li>\n",
        "    <li>List popular libraries for Data Science </li>\n",
        "    <li>List popular development environments for Data Science </li>\n",
        "</ul>"
      ]
    },
    {
      "cell_type": "markdown",
      "id": "ce4eb23a-01ee-4f95-b982-6d8c42cda36a",
      "metadata": {
        "id": "ce4eb23a-01ee-4f95-b982-6d8c42cda36a"
      },
      "source": [
        "<h2>Author: </h2>\n",
        "Mohammad Salimi"
      ]
    },
    {
      "cell_type": "markdown",
      "id": "969943af-2c34-4824-9765-59ed9391f3a6",
      "metadata": {
        "id": "969943af-2c34-4824-9765-59ed9391f3a6"
      },
      "source": [
        "<h3> Some of the popular languages that Data Scientists use are: </h3>\n",
        "<ol>\n",
        "    <li> Python </li>\n",
        "    <li> R </li>\n",
        "    <li> Scala </li>\n",
        "<ol>"
      ]
    },
    {
      "cell_type": "markdown",
      "id": "4b977d37-d272-4c72-9836-363238924aed",
      "metadata": {
        "id": "4b977d37-d272-4c72-9836-363238924aed"
      },
      "source": [
        "<h3> Some of the commonly used libraries used by Data Scientists include: </h3>\n",
        "<ol>\n",
        "    <li>Numpy </li>\n",
        "    <li>Pandas </li>\n",
        "    <li>Scikit-Learn </li>\n",
        "<ol>"
      ]
    },
    {
      "cell_type": "markdown",
      "id": "30992962-1ba4-488c-b488-3e53422363e5",
      "metadata": {
        "id": "30992962-1ba4-488c-b488-3e53422363e5"
      },
      "source": [
        "<h3> Some of the commonly used data science tools: </h3>\n",
        "\n",
        "|Data Science tools|\n",
        "--------------------\n",
        "|Jupyter |\n",
        "|RStudio |\n",
        "|Watson Cloud|"
      ]
    },
    {
      "cell_type": "markdown",
      "id": "b0074816-f7c0-4a30-87f7-e4cb5121895a",
      "metadata": {
        "id": "b0074816-f7c0-4a30-87f7-e4cb5121895a"
      },
      "source": [
        "<h3> Below are a few examples of evaluating arithmetic expressions in Python</h3>"
      ]
    },
    {
      "cell_type": "code",
      "execution_count": null,
      "id": "2a649f8a-de3f-4ecb-8788-3ac417f32acf",
      "metadata": {
        "id": "2a649f8a-de3f-4ecb-8788-3ac417f32acf",
        "outputId": "c5d905af-0bc6-47f2-f4c2-0f4ef02fbead"
      },
      "outputs": [
        {
          "data": {
            "text/plain": [
              "17"
            ]
          },
          "execution_count": 1,
          "metadata": {},
          "output_type": "execute_result"
        }
      ],
      "source": [
        "#This a simple arithmetic expression to mutiply then add integers\n",
        "(3*4)+5"
      ]
    },
    {
      "cell_type": "code",
      "execution_count": null,
      "id": "7a352c56-3b5f-46cf-8261-84cd3f290e97",
      "metadata": {
        "id": "7a352c56-3b5f-46cf-8261-84cd3f290e97",
        "outputId": "fc2adccb-8352-4e87-b36a-f64435405480"
      },
      "outputs": [
        {
          "data": {
            "text/plain": [
              "3.3333333333333335"
            ]
          },
          "execution_count": 2,
          "metadata": {},
          "output_type": "execute_result"
        }
      ],
      "source": [
        "#This will convert 200 minutes to hours by diving by 60\n",
        "200/60"
      ]
    },
    {
      "cell_type": "code",
      "execution_count": null,
      "id": "fd199418-c6a7-4706-bb03-f6dd26c6e335",
      "metadata": {
        "id": "fd199418-c6a7-4706-bb03-f6dd26c6e335"
      },
      "outputs": [],
      "source": []
    }
  ],
  "metadata": {
    "kernelspec": {
      "display_name": "Python 3 (ipykernel)",
      "language": "python",
      "name": "python3"
    },
    "language_info": {
      "codemirror_mode": {
        "name": "ipython",
        "version": 3
      },
      "file_extension": ".py",
      "mimetype": "text/x-python",
      "name": "python",
      "nbconvert_exporter": "python",
      "pygments_lexer": "ipython3",
      "version": "3.9.13"
    },
    "colab": {
      "provenance": []
    }
  },
  "nbformat": 4,
  "nbformat_minor": 5
}