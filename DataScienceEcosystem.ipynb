{
  "cells": [
    {
      "metadata": {
        "collapsed": true,
        "id": "ZsvsM7sJvlnl"
      },
      "cell_type": "markdown",
      "source": [
        "# Data Science Tools and Ecosystem"
      ]
    },
    {
      "cell_type": "markdown",
      "source": [
        "## Mohammad Salimi\n"
      ],
      "metadata": {
        "id": "2fh41ZpFyd9b"
      }
    },
    {
      "metadata": {
        "id": "Rq99cmkVvlns"
      },
      "cell_type": "markdown",
      "source": [
        "**In this notebook, Data Science Tools and Ecosystem are summarized.**"
      ]
    },
    {
      "cell_type": "code",
      "source": [],
      "metadata": {
        "id": "S_c2fzIHwzi8"
      },
      "execution_count": null,
      "outputs": []
    },
    {
      "cell_type": "markdown",
      "source": [
        "Some of the popular languages that Data Scientists use are:\n",
        "\n",
        "\n",
        "1.   List item\n",
        "2.   List item\n",
        "\n"
      ],
      "metadata": {
        "id": "Kn8wtk3uxD5t"
      }
    },
    {
      "cell_type": "code",
      "source": [],
      "metadata": {
        "id": "fSgwHmJPxEus"
      },
      "execution_count": null,
      "outputs": []
    },
    {
      "metadata": {
        "id": "8HaKZPPcvlnt"
      },
      "cell_type": "markdown",
      "source": [
        "Data Science Tools"
      ]
    },
    {
      "cell_type": "code",
      "source": [],
      "metadata": {
        "id": "JewyPSTgxNQ_"
      },
      "execution_count": null,
      "outputs": []
    },
    {
      "cell_type": "markdown",
      "source": [
        "Below are a few examples of evaluating arithmetic expressions in Python\n"
      ],
      "metadata": {
        "id": "zSX8ar7OxTKR"
      }
    },
    {
      "cell_type": "code",
      "source": [
        "(3*4)+5\n",
        "# This a simple arithmetic expression to mutiply then add integers."
      ],
      "metadata": {
        "id": "zWTon_l7xUBr",
        "outputId": "baa811d7-6eb0-41e0-e697-b9203667c75c",
        "colab": {
          "base_uri": "https://localhost:8080/"
        }
      },
      "execution_count": null,
      "outputs": [
        {
          "output_type": "execute_result",
          "data": {
            "text/plain": [
              "17"
            ]
          },
          "metadata": {},
          "execution_count": 1
        }
      ]
    },
    {
      "cell_type": "code",
      "source": [
        "200/60\n",
        "#This will convert 200 minutes to hours by diving by 60"
      ],
      "metadata": {
        "id": "Op0RD90LxrGd",
        "outputId": "201df257-319a-4a17-d21d-59adb1d60ff9",
        "colab": {
          "base_uri": "https://localhost:8080/"
        }
      },
      "execution_count": null,
      "outputs": [
        {
          "output_type": "execute_result",
          "data": {
            "text/plain": [
              "3.3333333333333335"
            ]
          },
          "metadata": {},
          "execution_count": 4
        }
      ]
    },
    {
      "cell_type": "markdown",
      "source": [
        "**Objectives**:\n",
        "\n",
        "\n",
        "*   R\n",
        "*   Python\n",
        "*   SQL\n",
        "\n"
      ],
      "metadata": {
        "id": "G1CpGyeOyIQR"
      }
    },
    {
      "cell_type": "markdown",
      "source": [],
      "metadata": {
        "id": "28DlC_KHySpF"
      }
    },
    {
      "cell_type": "code",
      "source": [],
      "metadata": {
        "id": "fRXf1vAWyH_c"
      },
      "execution_count": null,
      "outputs": []
    },
    {
      "metadata": {
        "id": "5ynr03Orvlnu"
      },
      "cell_type": "markdown",
      "source": [
        "### The below should print 'Hello World'"
      ]
    },
    {
      "metadata": {
        "id": "0MhRjWL4vlnv",
        "outputId": "bd064eab-52ba-4709-aa20-64f8c8229749"
      },
      "cell_type": "code",
      "source": [
        "print(\"Hello World!\")"
      ],
      "execution_count": null,
      "outputs": [
        {
          "output_type": "stream",
          "text": "Hello World!\n",
          "name": "stdout"
        }
      ]
    },
    {
      "metadata": {
        "id": "KR2FeTBmvlny"
      },
      "cell_type": "markdown",
      "source": [
        "> You miss 100% of the shots you don't take\n",
        ">\n",
        " - Wayne Gretzky\n",
        " - Micheal Scott\n",
        "\n",
        "<hr>\n",
        "\n",
        "Made with <3 [My Github](https://github.com/Thomas-George-T)\n"
      ]
    }
  ],
  "metadata": {
    "kernelspec": {
      "name": "python3",
      "display_name": "Python 3.6",
      "language": "python"
    },
    "language_info": {
      "name": "python",
      "version": "3.6.9",
      "mimetype": "text/x-python",
      "codemirror_mode": {
        "name": "ipython",
        "version": 3
      },
      "pygments_lexer": "ipython3",
      "nbconvert_exporter": "python",
      "file_extension": ".py"
    },
    "colab": {
      "provenance": []
    }
  },
  "nbformat": 4,
  "nbformat_minor": 0
}